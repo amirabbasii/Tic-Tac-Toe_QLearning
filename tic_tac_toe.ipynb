{
  "nbformat": 4,
  "nbformat_minor": 0,
  "metadata": {
    "accelerator": "GPU",
    "colab": {
      "name": "tic-tac-toe.ipynb",
      "provenance": [],
      "collapsed_sections": []
    },
    "kernelspec": {
      "display_name": "Python 3",
      "name": "python3"
    }
  },
  "cells": [
    {
      "cell_type": "code",
      "metadata": {
        "id": "0Pg4VQhl_cXQ"
      },
      "source": [
        "import numpy as np\n",
        "import random"
      ],
      "execution_count": 4,
      "outputs": []
    },
    {
      "cell_type": "code",
      "metadata": {
        "id": "nzC6iyidHOh_"
      },
      "source": [
        "class Epsilon_greedy:\n",
        "  def __init__(self,epsilon):\n",
        "    self.epsilon=epsilon\n",
        "  def action(self,q_values,state):\n",
        "    eps=np.random.rand()\n",
        "    q=q_values[str(state)]\n",
        "    if eps>self.epsilon:\n",
        "      i_valid=np.where(state==0)[0]\n",
        "      q_valid=q[i_valid]\n",
        "      a=i_valid[q_valid.argmax()]\n",
        " \n",
        "      return a\n",
        "    else:\n",
        "      s=np.where(state==0)[0]\n",
        "      a=np.random.choice(s)\n",
        "      return a\n",
        "\n"
      ],
      "execution_count": 142,
      "outputs": []
    },
    {
      "cell_type": "code",
      "metadata": {
        "id": "3NyemH6WJB0z"
      },
      "source": [
        "\n",
        "class Agent:\n",
        "  def __init__(self):\n",
        "    self.policy=Epsilon_greedy(0.2)\n",
        "    self.q_values={}\n",
        "    self.gamma=0.99\n",
        "    self.alpha=0.01\n",
        "    self.loss=torch.nn.MSELoss()\n",
        "  def action(self,state):\n",
        "    if str(state) not in self.q_values.keys():\n",
        "      self.q_values[str(state)]=np.zeros((9))\n",
        "    action=self.policy.action(self.q_values,state)\n",
        "    return action\n",
        "  def greedy_action(self,state):\n",
        "    if str(state) not in self.q_values.keys():\n",
        "      self.q_values[str(state)]=np.zeros((9))\n",
        "    q=self.q_values[str(state)]\n",
        "    i_valid=np.where(state==0)[0]\n",
        "    q_valid=q[i_valid]\n",
        "    a=i_valid[q_valid.argmax()]\n",
        "    return a\n",
        "  def update(self,state,action,next_state,next_action,reward,terminal):\n",
        "        q_prev=self.q_values[str(state)][action]\n",
        "        if terminal:\n",
        "          target=reward\n",
        "        else:\n",
        "          target=reward+self.gamma*self.q_values[str(next_state)][next_action]\n",
        "        self.q_values[str(state)][action]+=reward+self.alpha*(target-q_prev)\n",
        "\n"
      ],
      "execution_count": 146,
      "outputs": []
    },
    {
      "cell_type": "code",
      "metadata": {
        "id": "ewjHUJJnU2Vh"
      },
      "source": [
        "class Environment:\n",
        "  def __init__(self):\n",
        "    self.__state=np.zeros((3,3))\n",
        "  def reward(self,state):\n",
        "    s=state\n",
        "    for i in range(3):\n",
        "      if np.abs(np.sum(s[:][i]))==3:\n",
        "        return (np.sum(s[:][i])//3)\n",
        "      if np.abs(np.sum(s[i][:]))==3:\n",
        "        return (np.sum(s[i][:])//3)\n",
        "    if np.abs(s[0][0]+s[1][1]+s[2][2])==3:\n",
        "      return ((s[0][0]+s[1][1]+s[2][2])//3)\n",
        "    if np.abs(s[0][2]+s[1][1]+s[2][0])==3:\n",
        "      return ((s[0][2]+s[1][1]+s[2][0])//3)\n",
        "    if np.sum(s==0)==0:\n",
        "      return 1\n",
        "    else:\n",
        "      return 0\n",
        "  def step(self,action,sign):\n",
        "      i=action//3\n",
        "      j=action%3\n",
        "      self.__state[i][j]=sign\n",
        "      r=self.reward(self.__state)\n",
        "      return self.__state.copy(),r,r!=0\n",
        "  def reset(self):\n",
        "    self.__state=np.zeros((3,3))\n",
        "    return self.__state"
      ],
      "execution_count": 144,
      "outputs": []
    },
    {
      "cell_type": "code",
      "metadata": {
        "id": "B9d4_5g1K1jf"
      },
      "source": [
        "\n",
        "\n",
        "def train(episodes,agent):\n",
        "  env=Environment()\n",
        "  batch_size=100\n",
        "  rewards=[]\n",
        "  plot=[]\n",
        "  for episode in range(1,episodes+1):\n",
        "\n",
        "    state=env.reset()\n",
        "    done=False\n",
        "    while not done:\n",
        "      a=agent.action(state.reshape((9)))\n",
        "      next_state,r,done=env.step(a,1)\n",
        "\n",
        "      if done:\n",
        "        agent.update(state.reshape((9)),a,next_state.reshape((9)),None,r,done)\n",
        "        break\n",
        "      t=np.where(next_state.reshape((9))==0)[0]\n",
        "      a2=np.random.choice(t)\n",
        "      next_state,r,done=env.step(a2,-1)\n",
        "      if done:\n",
        "        agent.update(state.reshape((9)),a,next_state.reshape((9)),None,r,done)\n",
        "        break\n",
        "\n",
        "      a_next=agent.greedy_action(next_state.reshape((9)))\n",
        "      agent.update(state.reshape((9)),a,next_state.reshape((9)),a_next,r,done)\n",
        "      state=next_state\n",
        "    rewards.append(r)\n",
        "    if episode%1000==0:\n",
        "      m=np.mean(rewards)\n",
        "      plot.append(m)\n",
        "      print(\"episode:\",episode,\"  mean reward:\",m)\n",
        "      rewards=[]\n",
        "  return plot\n",
        "   \n",
        "      \n",
        "    \n",
        "\n"
      ],
      "execution_count": 174,
      "outputs": []
    },
    {
      "cell_type": "code",
      "metadata": {
        "colab": {
          "base_uri": "https://localhost:8080/"
        },
        "id": "y4qnjToXRUzO",
        "outputId": "949d3e65-d859-47ee-abb4-090ac62d8046"
      },
      "source": [
        "\n",
        "agent=Agent()\n",
        "history=train(30000,agent)"
      ],
      "execution_count": 175,
      "outputs": [
        {
          "output_type": "stream",
          "text": [
            "episode: 1000   mean reward: 0.84\n",
            "episode: 2000   mean reward: 0.86\n",
            "episode: 3000   mean reward: 0.88\n",
            "episode: 4000   mean reward: 0.882\n",
            "episode: 5000   mean reward: 0.888\n",
            "episode: 6000   mean reward: 0.908\n",
            "episode: 7000   mean reward: 0.928\n",
            "episode: 8000   mean reward: 0.906\n",
            "episode: 9000   mean reward: 0.902\n",
            "episode: 10000   mean reward: 0.89\n",
            "episode: 11000   mean reward: 0.928\n",
            "episode: 12000   mean reward: 0.934\n",
            "episode: 13000   mean reward: 0.908\n",
            "episode: 14000   mean reward: 0.94\n",
            "episode: 15000   mean reward: 0.908\n",
            "episode: 16000   mean reward: 0.886\n",
            "episode: 17000   mean reward: 0.928\n",
            "episode: 18000   mean reward: 0.916\n",
            "episode: 19000   mean reward: 0.928\n",
            "episode: 20000   mean reward: 0.94\n",
            "episode: 21000   mean reward: 0.918\n",
            "episode: 22000   mean reward: 0.944\n",
            "episode: 23000   mean reward: 0.922\n",
            "episode: 24000   mean reward: 0.932\n",
            "episode: 25000   mean reward: 0.942\n",
            "episode: 26000   mean reward: 0.944\n",
            "episode: 27000   mean reward: 0.92\n",
            "episode: 28000   mean reward: 0.926\n",
            "episode: 29000   mean reward: 0.936\n",
            "episode: 30000   mean reward: 0.904\n"
          ],
          "name": "stdout"
        }
      ]
    },
    {
      "cell_type": "code",
      "metadata": {
        "colab": {
          "base_uri": "https://localhost:8080/",
          "height": 610
        },
        "id": "m__rHh0trbZF",
        "outputId": "4460ef8c-323b-4487-cf12-2f455c11e024"
      },
      "source": [
        "import matplotlib.pyplot as plt\n",
        "plt.figure(figsize=(15,10))\n",
        "plt.plot(np.arange(len(history)),history)\n",
        "plt.ylim([0,1])\n",
        "plt.xlabel(\"episodes(1000 epsiodes)\")\n",
        "plt.ylabel(\"Mean reward\")\n",
        "plt.show()"
      ],
      "execution_count": 176,
      "outputs": [
        {
          "output_type": "display_data",
          "data": {
            "image/png": "[encoded data removed]",
            "text/plain": [
              "<Figure size 1080x720 with 1 Axes>"
            ]
          },
          "metadata": {
            "tags": [],
            "needs_background": "light"
          }
        }
      ]
    }
  ]
}