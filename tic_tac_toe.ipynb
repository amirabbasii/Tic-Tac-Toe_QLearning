{
  "nbformat": 4,
  "nbformat_minor": 0,
  "metadata": {
    "accelerator": "GPU",
    "colab": {
      "name": "tic-tac-toe.ipynb",
      "provenance": [],
      "collapsed_sections": []
    },
    "kernelspec": {
      "display_name": "Python 3",
      "name": "python3"
    }
  },
  "cells": [
    {
      "cell_type": "code",
      "metadata": {
        "id": "0Pg4VQhl_cXQ"
      },
      "source": [
        "import numpy as np\n",
        "import random"
      ],
      "execution_count": 4,
      "outputs": []
    },
    {
      "cell_type": "markdown",
      "metadata": {
        "id": "rbtIph3_7scI"
      },
      "source": [
        "Defining policy"
      ]
    },
    {
      "cell_type": "code",
      "metadata": {
        "id": "nzC6iyidHOh_"
      },
      "source": [
        "class Epsilon_greedy:\n",
        "  def __init__(self,epsilon):\n",
        "    self.epsilon=epsilon\n",
        "  def action(self,q_values,state):\n",
        "    eps=np.random.rand()\n",
        "    q=q_values[str(state)]\n",
        "    if eps>self.epsilon:\n",
        "      i_valid=np.where(state==0)[0]\n",
        "      q_valid=q[i_valid]\n",
        "      a=i_valid[q_valid.argmax()]\n",
        " \n",
        "      return a\n",
        "    else:\n",
        "      s=np.where(state==0)[0]\n",
        "      a=np.random.choice(s)\n",
        "      return a\n",
        "\n"
      ],
      "execution_count": 142,
      "outputs": []
    },
    {
      "cell_type": "markdown",
      "metadata": {
        "id": "VM2qrQg77w29"
      },
      "source": [
        "Agen class"
      ]
    },
    {
      "cell_type": "code",
      "metadata": {
        "id": "3NyemH6WJB0z"
      },
      "source": [
        "\n",
        "class Agent:\n",
        "  def __init__(self):\n",
        "    self.policy=Epsilon_greedy(0.2)\n",
        "    self.q_values={}\n",
        "    self.gamma=0.99\n",
        "    self.alpha=0.01\n",
        "    self.loss=torch.nn.MSELoss()\n",
        "  def action(self,state):\n",
        "    if str(state) not in self.q_values.keys():\n",
        "      self.q_values[str(state)]=np.zeros((9))\n",
        "    action=self.policy.action(self.q_values,state)\n",
        "    return action\n",
        "  def greedy_action(self,state):\n",
        "    if str(state) not in self.q_values.keys():\n",
        "      self.q_values[str(state)]=np.zeros((9))\n",
        "    q=self.q_values[str(state)]\n",
        "    i_valid=np.where(state==0)[0]\n",
        "    q_valid=q[i_valid]\n",
        "    a=i_valid[q_valid.argmax()]\n",
        "    return a\n",
        "  def update(self,state,action,next_state,next_action,reward,terminal):\n",
        "\n",
        "        q_prev=self.q_values[str(state)][action]\n",
        "        if terminal:\n",
        "          target=reward\n",
        "        else:\n",
        "          target=reward+self.gamma*self.q_values[str(next_state)][next_action]\n",
        "        self.q_values[str(state)][action]+=reward+self.alpha*(target-q_prev)\n",
        "\n"
      ],
      "execution_count": 204,
      "outputs": []
    },
    {
      "cell_type": "markdown",
      "metadata": {
        "id": "CrqxzPOz71hk"
      },
      "source": [
        "Environment class"
      ]
    },
    {
      "cell_type": "code",
      "metadata": {
        "id": "ewjHUJJnU2Vh"
      },
      "source": [
        "class Environment:\n",
        "  def __init__(self):\n",
        "    self.__state=np.zeros((3,3))\n",
        "  def reward(self,state):\n",
        "    s=state\n",
        "    for i in range(3):\n",
        "      if np.abs(np.sum(s[:][i]))==3:\n",
        "        return (np.sum(s[:][i])//3)\n",
        "      if np.abs(np.sum(s[i][:]))==3:\n",
        "        return (np.sum(s[i][:])//3)\n",
        "    if np.abs(s[0][0]+s[1][1]+s[2][2])==3:\n",
        "      return ((s[0][0]+s[1][1]+s[2][2])//3)\n",
        "    if np.abs(s[0][2]+s[1][1]+s[2][0])==3:\n",
        "      return ((s[0][2]+s[1][1]+s[2][0])//3)\n",
        "    if np.sum(s==0)==0:\n",
        "      return 1\n",
        "    else:\n",
        "      return 0\n",
        "  def step(self,action,sign):\n",
        "      i=action//3\n",
        "      j=action%3\n",
        "      self.__state[i][j]=sign\n",
        "      r=self.reward(self.__state)\n",
        "      return self.__state.copy(),r,r!=0\n",
        "  def reset(self):\n",
        "    self.__state=np.zeros((3,3))\n",
        "    return self.__state"
      ],
      "execution_count": 144,
      "outputs": []
    },
    {
      "cell_type": "markdown",
      "metadata": {
        "id": "z36P3ylt9L4K"
      },
      "source": [
        "test function\n",
        "\n",
        "it only plays game with a ranodm agent...."
      ]
    },
    {
      "cell_type": "code",
      "metadata": {
        "id": "MkCse2Iv6SQe"
      },
      "source": [
        "\n",
        "\n",
        "def test(episodes,agent):\n",
        "  env=Environment()\n",
        "  batch_size=100\n",
        "  rewards=[]\n",
        "  plot=[]\n",
        "  for episode in range(1,episodes+1):\n",
        "\n",
        "    state=env.reset()\n",
        "    done=False\n",
        "    while not done:\n",
        "      a=agent.greedy_action(state.reshape((9)))\n",
        "      next_state,r,done=env.step(a,1)\n",
        "\n",
        "      if done:\n",
        "        break\n",
        "      t=np.where(next_state.reshape((9))==0)[0]\n",
        "      a2=np.random.choice(t)\n",
        "      next_state,r,done=env.step(a2,-1)\n",
        "      if done:\n",
        "        break\n",
        "      state=next_state\n",
        "    rewards.append(r)\n",
        "    if episode%1000==0:\n",
        "      m=np.mean(rewards)\n",
        "      plot.append(m)\n",
        "      print(\"episode:\",episode,\"  mean reward:\",m)\n",
        "      rewards=[]\n",
        "  return plot\n",
        "\n"
      ],
      "execution_count": 213,
      "outputs": []
    },
    {
      "cell_type": "markdown",
      "metadata": {
        "id": "9muIlHjr8E8k"
      },
      "source": [
        "**Q-learing with**"
      ]
    },
    {
      "cell_type": "code",
      "metadata": {
        "id": "EmqQCfMW8ENI"
      },
      "source": [
        "\n",
        "\n",
        "def train(episodes,agent):\n",
        "  env=Environment()\n",
        "  batch_size=100\n",
        "  rewards=[]\n",
        "  plot=[]\n",
        "  for episode in range(1,episodes+1):\n",
        "\n",
        "    state=env.reset()\n",
        "    done=False\n",
        "    while not done:\n",
        "      a=agent.action(state.reshape((9)))\n",
        "      next_state,r,done=env.step(a,1)\n",
        "\n",
        "      if done:\n",
        "        agent.update(state.reshape((9)),a,next_state.reshape((9)),None,r,done)\n",
        "        break\n",
        "      t=np.where(next_state.reshape((9))==0)[0]\n",
        "      a2=np.random.choice(t)\n",
        "      next_state,r,done=env.step(a2,-1)\n",
        "      if done:\n",
        "        agent.update(state.reshape((9)),a,next_state.reshape((9)),None,r,done)\n",
        "        break\n",
        "\n",
        "      a_next=agent.greedy_action(next_state.reshape((9)))\n",
        "      agent.update(state.reshape((9)),a,next_state.reshape((9)),a_next,r,done)\n",
        "      state=next_state\n",
        "    rewards.append(r)\n",
        "    if episode%1000==0:\n",
        "      m=np.mean(rewards)\n",
        "      plot.append(m)\n",
        "      print(\"episode:\",episode,\"  mean reward:\",m)\n",
        "      rewards=[]\n",
        "  return plot\n",
        "\n"
      ],
      "execution_count": 218,
      "outputs": []
    },
    {
      "cell_type": "code",
      "metadata": {
        "colab": {
          "base_uri": "https://localhost:8080/"
        },
        "id": "lxTH7Bly86ZH",
        "outputId": "9e564c59-e9fc-4537-966f-c0e065995bdd"
      },
      "source": [
        "agent=Agent()\n",
        "history=train(30000,agent)"
      ],
      "execution_count": 219,
      "outputs": [
        {
          "output_type": "stream",
          "text": [
            "episode: 1000   mean reward: 0.83\n",
            "episode: 2000   mean reward: 0.858\n",
            "episode: 3000   mean reward: 0.884\n",
            "episode: 4000   mean reward: 0.868\n",
            "episode: 5000   mean reward: 0.882\n",
            "episode: 6000   mean reward: 0.912\n",
            "episode: 7000   mean reward: 0.884\n",
            "episode: 8000   mean reward: 0.922\n",
            "episode: 9000   mean reward: 0.922\n",
            "episode: 10000   mean reward: 0.924\n",
            "episode: 11000   mean reward: 0.928\n",
            "episode: 12000   mean reward: 0.916\n",
            "episode: 13000   mean reward: 0.886\n",
            "episode: 14000   mean reward: 0.898\n",
            "episode: 15000   mean reward: 0.914\n",
            "episode: 16000   mean reward: 0.93\n",
            "episode: 17000   mean reward: 0.946\n",
            "episode: 18000   mean reward: 0.906\n",
            "episode: 19000   mean reward: 0.926\n",
            "episode: 20000   mean reward: 0.914\n",
            "episode: 21000   mean reward: 0.91\n",
            "episode: 22000   mean reward: 0.94\n",
            "episode: 23000   mean reward: 0.922\n",
            "episode: 24000   mean reward: 0.944\n",
            "episode: 25000   mean reward: 0.924\n",
            "episode: 26000   mean reward: 0.944\n",
            "episode: 27000   mean reward: 0.948\n",
            "episode: 28000   mean reward: 0.908\n",
            "episode: 29000   mean reward: 0.94\n",
            "episode: 30000   mean reward: 0.92\n"
          ],
          "name": "stdout"
        }
      ]
    },
    {
      "cell_type": "code",
      "metadata": {
        "colab": {
          "base_uri": "https://localhost:8080/",
          "height": 780
        },
        "id": "WLRCMT619nf_",
        "outputId": "cf3d4aaa-40ce-42ba-d1ef-12b7ac3154d9"
      },
      "source": [
        "\n",
        "history=test(10000,agent)\n",
        "import matplotlib.pyplot as plt\n",
        "plt.figure(figsize=(15,10))\n",
        "plt.plot(np.arange(len(history)),history)\n",
        "plt.ylim([0,1.1])\n",
        "plt.xlabel(\"episodes(1000 epsiodes)\")\n",
        "plt.ylabel(\"Mean reward\")\n",
        "plt.show()"
      ],
      "execution_count": 221,
      "outputs": [
        {
          "output_type": "stream",
          "text": [
            "episode: 1000   mean reward: 1.0\n",
            "episode: 2000   mean reward: 1.0\n",
            "episode: 3000   mean reward: 1.0\n",
            "episode: 4000   mean reward: 1.0\n",
            "episode: 5000   mean reward: 1.0\n",
            "episode: 6000   mean reward: 1.0\n",
            "episode: 7000   mean reward: 1.0\n",
            "episode: 8000   mean reward: 1.0\n",
            "episode: 9000   mean reward: 1.0\n",
            "episode: 10000   mean reward: 1.0\n"
          ],
          "name": "stdout"
        },
        {
          "output_type": "display_data",
          "data": {
            "image/png": "[encoded data removed]",
            "text/plain": [
              "<Figure size 1080x720 with 1 Axes>"
            ]
          },
          "metadata": {
            "tags": [],
            "needs_background": "light"
          }
        }
      ]
    },
    {
      "cell_type": "markdown",
      "metadata": {
        "id": "E9nrjeDV9hpI"
      },
      "source": [
        ""
      ]
    },
    {
      "cell_type": "markdown",
      "metadata": {
        "id": "m8pkoK0q75QF"
      },
      "source": [
        "**Adversarial Q learing**\n",
        "\n",
        "In this experiment,there are two agent that are going to learn using Q learning.Both of them are updated during the training.Interestngly,one of them finally defeats another!!"
      ]
    },
    {
      "cell_type": "code",
      "metadata": {
        "id": "B9d4_5g1K1jf"
      },
      "source": [
        "\n",
        "\n",
        "def train(episodes,agent1,agent2):\n",
        "  env=Environment()\n",
        "  batch_size=100\n",
        "  rewards=[]\n",
        "  plot=[]\n",
        "\n",
        "  for episode in range(1,episodes+1):\n",
        "\n",
        "    state1=env.reset()\n",
        "    done=False\n",
        "    flag=False\n",
        "    while not done:\n",
        "      a1=agent1.action(state1.reshape((9)))\n",
        "      next_state1,r,done=env.step(a1,1)\n",
        "      if done:\n",
        "        agent1.update(state1.reshape((9)),a1,None,None,r,done)\n",
        "        if flag:\n",
        "          agent2.update(state2.reshape((9)),a2,None,None,-r,done)\n",
        "        break\n",
        "\n",
        "      if flag:\n",
        "        a2_next=agent2.greedy_action(next_state1.reshape((9)))\n",
        "        agent2.update(state2.reshape((9)),a2,next_state1.reshape((9)),a2_next,r,done)\n",
        "\n",
        "      \n",
        "      state2=next_state1\n",
        "      a2=agent2.action(state2.reshape((9)))\n",
        "      next_state2,r,done=env.step(a2,-1)\n",
        "\n",
        "      if done:\n",
        "        agent2.update(state2.reshape((9)),a2,None,None,-r,done)\n",
        "        agent1.update(state1.reshape((9)),a1,None,None,r,done)\n",
        "        break\n",
        "\n",
        "      a1_next=agent1.greedy_action(next_state2.reshape((9)))\n",
        "      agent1.update(state1.reshape((9)),a1,next_state2.reshape((9)),a1_next,r,done)\n",
        "\n",
        "\n",
        "      state1=next_state2\n",
        "      flag=True\n",
        "\n",
        "    rewards.append(r)\n",
        "    if episode%1000==0:\n",
        "      m=np.mean(rewards)\n",
        "      plot.append(m)\n",
        "      print(\"episode:\",episode,\"  mean reward:\",m)\n",
        "      rewards=[]\n",
        "  return plot\n",
        "   \n",
        "      \n",
        "    \n",
        "\n"
      ],
      "execution_count": 209,
      "outputs": []
    },
    {
      "cell_type": "code",
      "metadata": {
        "colab": {
          "base_uri": "https://localhost:8080/"
        },
        "id": "y4qnjToXRUzO",
        "outputId": "9bfe36b1-d0ce-4831-a36e-d57e3c9c362e"
      },
      "source": [
        "\n",
        "agent1=Agent()\n",
        "agent2=Agent()\n",
        "history=train(30000,agent1,agent2)"
      ],
      "execution_count": 210,
      "outputs": [
        {
          "output_type": "stream",
          "text": [
            "episode: 1000   mean reward: 0.71\n",
            "episode: 2000   mean reward: 0.758\n",
            "episode: 3000   mean reward: 0.758\n",
            "episode: 4000   mean reward: 0.782\n",
            "episode: 5000   mean reward: 0.768\n",
            "episode: 6000   mean reward: 0.812\n",
            "episode: 7000   mean reward: 0.742\n",
            "episode: 8000   mean reward: 0.764\n",
            "episode: 9000   mean reward: 0.778\n",
            "episode: 10000   mean reward: 0.838\n",
            "episode: 11000   mean reward: 0.786\n",
            "episode: 12000   mean reward: 0.832\n",
            "episode: 13000   mean reward: 0.794\n",
            "episode: 14000   mean reward: 0.818\n",
            "episode: 15000   mean reward: 0.828\n",
            "episode: 16000   mean reward: 0.792\n",
            "episode: 17000   mean reward: 0.796\n",
            "episode: 18000   mean reward: 0.772\n",
            "episode: 19000   mean reward: 0.828\n",
            "episode: 20000   mean reward: 0.786\n",
            "episode: 21000   mean reward: 0.802\n",
            "episode: 22000   mean reward: 0.812\n",
            "episode: 23000   mean reward: 0.814\n",
            "episode: 24000   mean reward: 0.776\n",
            "episode: 25000   mean reward: 0.808\n",
            "episode: 26000   mean reward: 0.78\n",
            "episode: 27000   mean reward: 0.836\n",
            "episode: 28000   mean reward: 0.812\n",
            "episode: 29000   mean reward: 0.77\n",
            "episode: 30000   mean reward: 0.838\n"
          ],
          "name": "stdout"
        }
      ]
    },
    {
      "cell_type": "code",
      "metadata": {
        "colab": {
          "base_uri": "https://localhost:8080/",
          "height": 780
        },
        "id": "Cz1sKApT66dp",
        "outputId": "5b0c7ff3-fac5-40fa-ff99-43dba31444c8"
      },
      "source": [
        "\n",
        "history=test(10000,agent1)\n",
        "import matplotlib.pyplot as plt\n",
        "plt.figure(figsize=(15,10))\n",
        "plt.plot(np.arange(len(history)),history)\n",
        "plt.ylim([0,1.1])\n",
        "plt.xlabel(\"episodes(1000 epsiodes)\")\n",
        "plt.ylabel(\"Mean reward\")\n",
        "plt.show()"
      ],
      "execution_count": 217,
      "outputs": [
        {
          "output_type": "stream",
          "text": [
            "episode: 1000   mean reward: 1.0\n",
            "episode: 2000   mean reward: 1.0\n",
            "episode: 3000   mean reward: 1.0\n",
            "episode: 4000   mean reward: 1.0\n",
            "episode: 5000   mean reward: 1.0\n",
            "episode: 6000   mean reward: 1.0\n",
            "episode: 7000   mean reward: 1.0\n",
            "episode: 8000   mean reward: 1.0\n",
            "episode: 9000   mean reward: 1.0\n",
            "episode: 10000   mean reward: 1.0\n"
          ],
          "name": "stdout"
        },
        {
          "output_type": "display_data",
          "data": {
            "image/png": "[encoded data removed]",
            "text/plain": [
              "<Figure size 1080x720 with 1 Axes>"
            ]
          },
          "metadata": {
            "tags": [],
            "needs_background": "light"
          }
        }
      ]
    }
  ]
}